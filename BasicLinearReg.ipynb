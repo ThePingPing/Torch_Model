{
  "nbformat": 4,
  "nbformat_minor": 0,
  "metadata": {
    "colab": {
      "provenance": [],
      "mount_file_id": "1X-Qt_hw7TFEPB2abCvLbvlFPeWdFmaFy",
      "authorship_tag": "ABX9TyP6vBRPaW9h4E5l+g6xcq+2",
      "include_colab_link": true
    },
    "kernelspec": {
      "name": "python3",
      "display_name": "Python 3"
    },
    "language_info": {
      "name": "python"
    }
  },
  "cells": [
    {
      "cell_type": "markdown",
      "metadata": {
        "id": "view-in-github",
        "colab_type": "text"
      },
      "source": [
        "<a href=\"https://colab.research.google.com/github/ThePingPing/Torch_Model/blob/main/BasicLinearReg.ipynb\" target=\"_parent\"><img src=\"https://colab.research.google.com/assets/colab-badge.svg\" alt=\"Open In Colab\"/></a>"
      ]
    },
    {
      "cell_type": "code",
      "execution_count": 56,
      "metadata": {
        "id": "6b6m-3uf99mU"
      },
      "outputs": [],
      "source": [
        "import torch\n",
        "import torch.nn as nn\n",
        "\n",
        "from torchsummary import summary\n",
        "from torch.optim import Adam, SGD\n",
        "from torch.utils.data import Dataset, DataLoader, TensorDataset\n",
        "\n",
        "import numpy as np\n",
        "import pandas as pd\n",
        "\n",
        "from sklearn.model_selection import train_test_split\n",
        "\n",
        "import time\n",
        "from pathlib import Path\n",
        "\n",
        "\n",
        "import matplotlib.pyplot as plt"
      ]
    },
    {
      "cell_type": "code",
      "source": [
        "device = torch.device(\"cuda:0\" if torch.cuda.is_available() else \"cpu\")"
      ],
      "metadata": {
        "id": "TROVSBJ_-Er2"
      },
      "execution_count": 27,
      "outputs": []
    },
    {
      "cell_type": "code",
      "source": [
        "## Constante for the model\n",
        "\n",
        "numbers_epochs = 200  ## for the futur model loop\n",
        "name = \"Linear Regretion\"\n"
      ],
      "metadata": {
        "id": "YdcUKrMKLWBe"
      },
      "execution_count": 28,
      "outputs": []
    },
    {
      "cell_type": "code",
      "source": [
        "def create_data():\n",
        "\n",
        "  \"\"\" Let's create a *known parameters a basic linear regration with formula { y = aX + b } \"\"\"\n",
        "\n",
        "\n",
        "  ## initialization parametres\n",
        "\n",
        "  weight = 0.7\n",
        "  bias = 0.3\n",
        "\n",
        "  start = 0\n",
        "  end = 1\n",
        "\n",
        "  step = 0.02\n",
        "\n",
        "  X = torch.arange(start, end, step).unsqueeze(dim = 1)\n",
        "  y = weight * X + bias\n",
        "\n",
        "  print(f\"The data into the Tensor is: {X[:]}\")\n",
        "  print(f\" the y vector is : {y} , and the shape is: {y.shape}\")\n",
        "  return X, y\n"
      ],
      "metadata": {
        "id": "0gyCfhYt-HE3"
      },
      "execution_count": 29,
      "outputs": []
    },
    {
      "cell_type": "code",
      "source": [
        "X, y = create_data()"
      ],
      "metadata": {
        "id": "00V7mieZBSO_"
      },
      "execution_count": null,
      "outputs": []
    },
    {
      "cell_type": "code",
      "source": [
        "def data_loader_convert(X, y):\n",
        "\n",
        "  X_train, X_test, y_train, y_test = train_test_split(X, y, train_size=0.8, shuffle=False)\n",
        "\n",
        "  train_data = TensorDataset(X_train, y_train)\n",
        "  test_data = TensorDataset(X_test, y_test)\n",
        "\n",
        "  batchsize = 8\n",
        "\n",
        "  train_loader_reg = DataLoader(train_data, batch_size=train_data.tensors[0].shape[0], shuffle=True, drop_last=True)\n",
        "  test_loader_reg = DataLoader(test_data, batch_size=test_data.tensors[0].shape[0])\n",
        "\n",
        "  print(\"Train loader EMNIST : \",  train_loader_reg.dataset.tensors[0].shape)\n",
        "  print(\"Test loader EMNIST : \", test_loader_reg.dataset.tensors[1].shape)\n",
        "\n",
        "  return  train_loader_reg, test_loader_reg, X_train, X_test, y_train, y_test"
      ],
      "metadata": {
        "id": "EbenJzLpCLpK"
      },
      "execution_count": 31,
      "outputs": []
    },
    {
      "cell_type": "code",
      "source": [
        "train_loader_reg, test_loader_reg, X_train, X_test, y_train, y_test = data_loader_convert(X, y)"
      ],
      "metadata": {
        "colab": {
          "base_uri": "https://localhost:8080/"
        },
        "id": "FW5-k0MUikUS",
        "outputId": "7d990e73-dafc-4330-f21e-febbbc3fe03a"
      },
      "execution_count": 32,
      "outputs": [
        {
          "output_type": "stream",
          "name": "stdout",
          "text": [
            "Train loader EMNIST :  torch.Size([40, 1])\n",
            "Test loader EMNIST :  torch.Size([10, 1])\n"
          ]
        }
      ]
    },
    {
      "cell_type": "code",
      "source": [
        "def plot_prediction(trian_data = X_train, train_labels = y_train, test_data = X_test, test_labels = y_test, predictions = None):\n",
        "\n",
        "  \"\"\" Plot the data and compares with the prediction \"\"\"\n",
        "\n",
        "  plt.figure(figsize=(10, 7))\n",
        "\n",
        "  ## plot the training data set\n",
        "  plt.scatter(trian_data, train_labels, c=\"b\", s=4, label = \"Training Data\")\n",
        "\n",
        "  ## plot the testing data set\n",
        "  plt.scatter(test_data, test_labels, c=\"g\", s=4, label = \"Testing Data\")\n",
        "\n",
        "  if predictions is not None:\n",
        "    ## if existe plot the predictions\n",
        "    plt.scatter(test_data, predictions, c=\"r\", s=4, label = \"Predictions\")\n",
        "\n",
        "  plt.legend()\n",
        "  plt.show()\n",
        "\n"
      ],
      "metadata": {
        "id": "KEs3rZxMhMC9"
      },
      "execution_count": 33,
      "outputs": []
    },
    {
      "cell_type": "code",
      "source": [
        "plot_prediction(trian_data = X_train, train_labels = y_train, test_data = y_test, test_labels = y_test, predictions = None)"
      ],
      "metadata": {
        "colab": {
          "base_uri": "https://localhost:8080/",
          "height": 599
        },
        "id": "YX0o6mY5ieVb",
        "outputId": "09e7ad81-d7ec-49be-c894-92544e95a724"
      },
      "execution_count": 34,
      "outputs": [
        {
          "output_type": "display_data",
          "data": {
            "text/plain": [
              "<Figure size 1000x700 with 1 Axes>"
            ],
            "image/png": "[encoded data removed]"
          },
          "metadata": {}
        }
      ]
    },
    {
      "cell_type": "code",
      "source": [
        "class LinearRegModel(nn.Module):\n",
        "\n",
        "  def __init__(self, printtoggle):\n",
        "    super().__init__()\n",
        "\n",
        "    \"\"\" for the Toggle \"\"\"\n",
        "    self.print = printtoggle\n",
        "\n",
        "    self.weights = nn.Parameter(torch.randn(1, requires_grad=True, dtype=torch.float))\n",
        "    self.bias = nn.Parameter(torch.randn(1, requires_grad=True, dtype=torch.float))\n",
        "\n",
        "  def forward(self, x):\n",
        "\n",
        "    if self.print: print(f'Input:{list(x.shape)}')\n",
        "    ## Now remembers the output function is a linear regretion formula y = wights * X + bias\n",
        "\n",
        "    return  self.weights * x + self.bias\n",
        "\n",
        "\n"
      ],
      "metadata": {
        "id": "2ysghkZ9mDIo"
      },
      "execution_count": 35,
      "outputs": []
    },
    {
      "cell_type": "code",
      "source": [
        "def initialize_model():\n",
        "\n",
        "  ModelLinReg = LinearRegModel(False)\n",
        "  loss_function = nn.L1Loss() ## Linear Regretion Task --> the mean absoluts error loss\n",
        "  learning_rate = (10 ** -3)\n",
        "  weight_dec = (10 ** -5)\n",
        "  momentum = 0.95\n",
        "\n",
        "  optimizer = SGD(ModelLinReg.parameters(), lr=learning_rate, momentum = momentum, weight_decay= weight_dec)\n",
        "\n",
        "  return ModelLinReg, loss_function, optimizer"
      ],
      "metadata": {
        "id": "X6QkkOSmo2bb"
      },
      "execution_count": 36,
      "outputs": []
    },
    {
      "cell_type": "code",
      "source": [
        "ModelLinReg, loss_function, optimizer = initialize_model()"
      ],
      "metadata": {
        "id": "iGQW2--SrBmO"
      },
      "execution_count": 37,
      "outputs": []
    },
    {
      "cell_type": "code",
      "source": [
        "def try_prediciton(ModelLinReg, loss_function, test_loader):\n",
        "\n",
        "   X, y = next(iter(test_loader))\n",
        "   with torch.inference_mode(): ## turn off the gardient tracking\n",
        "    yHat = ModelLinReg(X)\n",
        "    loss = loss_function(yHat, y)\n",
        "    print(f\"the X_test_value is {X}, The true y is {y} , the prediction is {yHat}\")\n",
        "    plot_prediction(predictions = yHat)\n",
        "\n",
        ""
      ],
      "metadata": {
        "id": "D_oC08lMyyo7"
      },
      "execution_count": 38,
      "outputs": []
    },
    {
      "cell_type": "code",
      "source": [
        "try_prediciton(ModelLinReg, loss_function, test_loader_reg)"
      ],
      "metadata": {
        "colab": {
          "base_uri": "https://localhost:8080/",
          "height": 1000
        },
        "id": "D65paD0wzBi1",
        "outputId": "90bcff69-c2f3-4bb1-9cde-d385943d02a2"
      },
      "execution_count": 39,
      "outputs": [
        {
          "output_type": "stream",
          "name": "stdout",
          "text": [
            "the X_test_value is tensor([[0.8000],\n",
            "        [0.8200],\n",
            "        [0.8400],\n",
            "        [0.8600],\n",
            "        [0.8800],\n",
            "        [0.9000],\n",
            "        [0.9200],\n",
            "        [0.9400],\n",
            "        [0.9600],\n",
            "        [0.9800]]), The true y is tensor([[0.8600],\n",
            "        [0.8740],\n",
            "        [0.8880],\n",
            "        [0.9020],\n",
            "        [0.9160],\n",
            "        [0.9300],\n",
            "        [0.9440],\n",
            "        [0.9580],\n",
            "        [0.9720],\n",
            "        [0.9860]]) , the prediction is tensor([[-2.2479],\n",
            "        [-2.2427],\n",
            "        [-2.2375],\n",
            "        [-2.2323],\n",
            "        [-2.2271],\n",
            "        [-2.2219],\n",
            "        [-2.2166],\n",
            "        [-2.2114],\n",
            "        [-2.2062],\n",
            "        [-2.2010]])\n"
          ]
        },
        {
          "output_type": "display_data",
          "data": {
            "text/plain": [
              "<Figure size 1000x700 with 1 Axes>"
            ],
            "image/png": "[encoded data removed]"
          },
          "metadata": {}
        }
      ]
    },
    {
      "cell_type": "code",
      "source": [
        "def test_model(ModelLinReg, loss_function, train_loader):\n",
        "\n",
        "  dict_model_parametres = list(ModelLinReg.state_dict())\n",
        "  print(f\"The intialize model parameters is: {dict_model_parametres}\")\n",
        "\n",
        "  X, y = next(iter(train_loader))\n",
        "  yHat = ModelLinReg(X)\n",
        "  loss = loss_function(yHat, y)\n",
        "\n",
        "  print(y)\n",
        "  print(yHat.shape)\n",
        "\n",
        "  print(\" \")\n",
        "  print(\"yHat Shape\", yHat.shape)\n",
        "  print(\" Thes loss \", loss)\n",
        "  # print(summary(ModelLinReg.to(device),(8, 1)))"
      ],
      "metadata": {
        "id": "-Vzm8wyvq-9T"
      },
      "execution_count": 40,
      "outputs": []
    },
    {
      "cell_type": "code",
      "source": [
        "test_model(ModelLinReg, loss_function, train_loader_reg)"
      ],
      "metadata": {
        "colab": {
          "base_uri": "https://localhost:8080/"
        },
        "id": "JKc0xQCGrE9K",
        "outputId": "17ad854e-998c-476c-a8d1-24f0b2f02626"
      },
      "execution_count": 41,
      "outputs": [
        {
          "output_type": "stream",
          "name": "stdout",
          "text": [
            "The intialize model parameters is: ['weights', 'bias']\n",
            "tensor([[0.4540],\n",
            "        [0.6360],\n",
            "        [0.3840],\n",
            "        [0.3560],\n",
            "        [0.6220],\n",
            "        [0.3000],\n",
            "        [0.5380],\n",
            "        [0.5520],\n",
            "        [0.5800],\n",
            "        [0.3140],\n",
            "        [0.6500],\n",
            "        [0.8180],\n",
            "        [0.8040],\n",
            "        [0.7620],\n",
            "        [0.6920],\n",
            "        [0.4820],\n",
            "        [0.3280],\n",
            "        [0.4400],\n",
            "        [0.7900],\n",
            "        [0.4260],\n",
            "        [0.7480],\n",
            "        [0.5660],\n",
            "        [0.4120],\n",
            "        [0.3420],\n",
            "        [0.7340],\n",
            "        [0.7760],\n",
            "        [0.3980],\n",
            "        [0.6780],\n",
            "        [0.6640],\n",
            "        [0.5100],\n",
            "        [0.5240],\n",
            "        [0.6080],\n",
            "        [0.3700],\n",
            "        [0.4680],\n",
            "        [0.7200],\n",
            "        [0.5940],\n",
            "        [0.4960],\n",
            "        [0.8460],\n",
            "        [0.7060],\n",
            "        [0.8320]])\n",
            "torch.Size([40, 1])\n",
            " \n",
            "yHat Shape torch.Size([40, 1])\n",
            " Thes loss  tensor(2.9278, grad_fn=<MeanBackward0>)\n"
          ]
        }
      ]
    },
    {
      "cell_type": "code",
      "source": [
        "def train_model(Model, loss_function, optimizer, train_loader, test_loader, numbers_epochs, name):\n",
        "\n",
        "  ## Implement a new model , never see any data\n",
        "  start_time = time.time()\n",
        "\n",
        "\n",
        "  ## Push to GPU\n",
        "  Model.to(device)\n",
        "\n",
        "  # number of epochs\n",
        "\n",
        "  ## initialize losses\n",
        "  epoch_count = []\n",
        "  train_Loss = []\n",
        "  test_Loss = []\n",
        "\n",
        "  ## loop over epochs\n",
        "  for epochi in range(numbers_epochs):\n",
        "\n",
        "    # loop over training data batches\n",
        "    Model.train() ## set all parametres require_grad\n",
        "\n",
        "    for X, y in train_loader:\n",
        "\n",
        "      # push data to the GPU\n",
        "\n",
        "      X = X.to(device)\n",
        "      y = y.to(device)\n",
        "\n",
        "      # forward pass and loss\n",
        "      yHat = Model(X)\n",
        "      loss = loss_function(yHat, y)\n",
        "      print(f\" Loss : {loss}\")\n",
        "\n",
        "      # backprop\n",
        "      optimizer.zero_grad()\n",
        "      loss.backward()\n",
        "      optimizer.step()\n",
        "\n",
        "    # end of batch loop...\n",
        "\n",
        "    # test accuracy\n",
        "    Model.eval() ## turn off the gradient tracking (dropout / batchNormalization)\n",
        "    X_test, y_test = next(iter(test_loader))  # extract X,y from test dataloader the model never seen before\n",
        "\n",
        "    # push data to the GPU\n",
        "    X_test = X_test.to(device)\n",
        "    y_test = y_test.to(device)\n",
        "\n",
        "    with torch.inference_mode():  # turn of the Gradiente tracking , and more things\n",
        "        yHat_test = Model(X_test)\n",
        "        loss_test = loss_function(yHat_test, y_test)\n",
        "\n",
        "    if epochi % 10 == 0:\n",
        "\n",
        "      epoch_count.append(epochi)\n",
        "      train_Loss.append(loss.item())\n",
        "      test_Loss.append(loss_test.item())\n",
        "\n",
        "      print(f\"Epoch: {epochi} | Loss : {loss} | Test loss : {loss_test}\")\n",
        "      print(Model.state_dict())\n",
        "\n",
        "    # test_Loss[epochi] = loss.item()\n",
        "    # test_error[epochi] = 100 * torch.mean((torch.argmax(yHat, axis=1) != y).float()).item()\n",
        "\n",
        "  # end epochs\n",
        "  ModelTrained = Model\n",
        "  end_time = time.time()\n",
        "  elapsed_time = end_time - start_time\n",
        "  print(\"The time computing for the Model training / retrainig is --> \", elapsed_time, \" for the Model : \", name)\n",
        "\n",
        "  # function output\n",
        "  return ModelTrained, epoch_count, train_Loss, test_Loss"
      ],
      "metadata": {
        "id": "kbntHoHhqO04"
      },
      "execution_count": 48,
      "outputs": []
    },
    {
      "cell_type": "code",
      "source": [
        "ModelTrained, epoch_count, train_Loss, test_Loss = train_model(ModelLinReg, loss_function, optimizer, train_loader_reg, test_loader_reg, numbers_epochs, name)"
      ],
      "metadata": {
        "colab": {
          "base_uri": "https://localhost:8080/"
        },
        "id": "lHWFSVN888ll",
        "outputId": "99da590b-4277-4c46-80a9-3ad571c95655"
      },
      "execution_count": 49,
      "outputs": [
        {
          "output_type": "stream",
          "name": "stdout",
          "text": [
            " Loss : 0.09051436185836792\n",
            "Epoch: 0 | Loss : 0.09051436185836792 | Test loss : 0.15651097893714905\n",
            "OrderedDict([('weights', tensor([1.1144])), ('bias', tensor([0.0877]))])\n",
            " Loss : 0.09062626957893372\n",
            " Loss : 0.09063833951950073\n",
            " Loss : 0.0906563475728035\n",
            " Loss : 0.09056754410266876\n",
            " Loss : 0.090359166264534\n",
            " Loss : 0.09003716707229614\n",
            " Loss : 0.08960725367069244\n",
            " Loss : 0.08907482028007507\n",
            " Loss : 0.08844499289989471\n",
            " Loss : 0.08772263675928116\n",
            "Epoch: 10 | Loss : 0.08772263675928116 | Test loss : 0.1347944736480713\n",
            "OrderedDict([('weights', tensor([1.0826])), ('bias', tensor([0.0943]))])\n",
            " Loss : 0.0869123786687851\n",
            " Loss : 0.08601859211921692\n",
            " Loss : 0.08504549413919449\n",
            " Loss : 0.08399703353643417\n",
            " Loss : 0.08287695795297623\n",
            " Loss : 0.08171779662370682\n",
            " Loss : 0.08058889210224152\n",
            " Loss : 0.07942219823598862\n",
            " Loss : 0.07822982966899872\n",
            " Loss : 0.07713544368743896\n",
            "Epoch: 20 | Loss : 0.07713544368743896 | Test loss : 0.1458081752061844\n",
            "OrderedDict([('weights', tensor([1.0599])), ('bias', tensor([0.1255]))])\n",
            " Loss : 0.07602517306804657\n",
            " Loss : 0.07495011389255524\n",
            " Loss : 0.07395949959754944\n",
            " Loss : 0.07296542078256607\n",
            " Loss : 0.07208392769098282\n",
            " Loss : 0.07122955471277237\n",
            " Loss : 0.07042007148265839\n",
            " Loss : 0.06970591843128204\n",
            " Loss : 0.06899218261241913\n",
            " Loss : 0.06836526840925217\n",
            "Epoch: 30 | Loss : 0.06836526840925217 | Test loss : 0.163029283285141\n",
            "OrderedDict([('weights', tensor([1.0382])), ('bias', tensor([0.1620]))])\n",
            " Loss : 0.06777163594961166\n",
            " Loss : 0.06717275083065033\n",
            " Loss : 0.06665385514497757\n",
            " Loss : 0.06614106893539429\n",
            " Loss : 0.06561391055583954\n",
            " Loss : 0.0650971531867981\n",
            " Loss : 0.06461110711097717\n",
            " Loss : 0.06409890949726105\n",
            " Loss : 0.06356187164783478\n",
            " Loss : 0.06300123035907745\n",
            "Epoch: 40 | Loss : 0.06300123035907745 | Test loss : 0.164127379655838\n",
            "OrderedDict([('weights', tensor([1.0107])), ('bias', tensor([0.1876]))])\n",
            " Loss : 0.062418121844530106\n",
            " Loss : 0.061815716326236725\n",
            " Loss : 0.06120232865214348\n",
            " Loss : 0.0605534203350544\n",
            " Loss : 0.059870779514312744\n",
            " Loss : 0.059156130999326706\n",
            " Loss : 0.0584171824157238\n",
            " Loss : 0.05767785385251045\n",
            " Loss : 0.05692503601312637\n",
            " Loss : 0.05615938454866409\n",
            "Epoch: 50 | Loss : 0.05615938454866409 | Test loss : 0.14363718032836914\n",
            "OrderedDict([('weights', tensor([0.9762])), ('bias', tensor([0.1978]))])\n",
            " Loss : 0.055381547659635544\n",
            " Loss : 0.05459214374423027\n",
            " Loss : 0.053791750222444534\n",
            " Loss : 0.053000010550022125\n",
            " Loss : 0.05224347859621048\n",
            " Loss : 0.051484763622283936\n",
            " Loss : 0.05072397738695145\n",
            " Loss : 0.04996613413095474\n",
            " Loss : 0.04926742985844612\n",
            " Loss : 0.04856876656413078\n",
            "Epoch: 60 | Loss : 0.04856876656413078 | Test loss : 0.11313454806804657\n",
            "OrderedDict([('weights', tensor([0.9384])), ('bias', tensor([0.2009]))])\n",
            " Loss : 0.04787011817097664\n",
            " Loss : 0.04717780277132988\n",
            " Loss : 0.04653584212064743\n",
            " Loss : 0.0458906888961792\n",
            " Loss : 0.04524251073598862\n",
            " Loss : 0.04459145665168762\n",
            " Loss : 0.04396231099963188\n",
            " Loss : 0.04334036633372307\n",
            " Loss : 0.04270826280117035\n",
            " Loss : 0.04206647723913193\n",
            "Epoch: 70 | Loss : 0.04206647723913193 | Test loss : 0.08829254657030106\n",
            "OrderedDict([('weights', tensor([0.9021])), ('bias', tensor([0.2085]))])\n",
            " Loss : 0.04141552001237869\n",
            " Loss : 0.04075583070516586\n",
            " Loss : 0.04008786380290985\n",
            " Loss : 0.03941202908754349\n",
            " Loss : 0.03872871398925781\n",
            " Loss : 0.03803827613592148\n",
            " Loss : 0.03734111040830612\n",
            " Loss : 0.03663753345608711\n",
            " Loss : 0.035927850753068924\n",
            " Loss : 0.03521239757537842\n",
            "Epoch: 80 | Loss : 0.03521239757537842 | Test loss : 0.07496468722820282\n",
            "OrderedDict([('weights', tensor([0.8691])), ('bias', tensor([0.2245]))])\n",
            " Loss : 0.034491442143917084\n",
            " Loss : 0.03376525267958641\n",
            " Loss : 0.03303799778223038\n",
            " Loss : 0.032338060438632965\n",
            " Loss : 0.03163783997297287\n",
            " Loss : 0.03093734383583069\n",
            " Loss : 0.030236592516303062\n",
            " Loss : 0.029548894613981247\n",
            " Loss : 0.028880650177598\n",
            " Loss : 0.028210917487740517\n",
            "Epoch: 90 | Loss : 0.028210917487740517 | Test loss : 0.06660468876361847\n",
            "OrderedDict([('weights', tensor([0.8375])), ('bias', tensor([0.2442]))])\n",
            " Loss : 0.027539771050214767\n",
            " Loss : 0.02686726674437523\n",
            " Loss : 0.026205290108919144\n",
            " Loss : 0.02554801106452942\n",
            " Loss : 0.02488359808921814\n",
            " Loss : 0.02421240322291851\n",
            " Loss : 0.02353477105498314\n",
            " Loss : 0.022851021960377693\n",
            " Loss : 0.02216145396232605\n",
            " Loss : 0.021466368809342384\n",
            "Epoch: 100 | Loss : 0.021466368809342384 | Test loss : 0.05161524564027786\n",
            "OrderedDict([('weights', tensor([0.8038])), ('bias', tensor([0.2592]))])\n",
            " Loss : 0.02076602727174759\n",
            " Loss : 0.020060699433088303\n",
            " Loss : 0.019350649788975716\n",
            " Loss : 0.018652191385626793\n",
            " Loss : 0.017958257347345352\n",
            " Loss : 0.01726413145661354\n",
            " Loss : 0.01656978949904442\n",
            " Loss : 0.015896417200565338\n",
            " Loss : 0.015224742703139782\n",
            " Loss : 0.014551374129951\n",
            "Epoch: 110 | Loss : 0.014551374129951 | Test loss : 0.030516047030687332\n",
            "OrderedDict([('weights', tensor([0.7683])), ('bias', tensor([0.2698]))])\n",
            " Loss : 0.0138864042237401\n",
            " Loss : 0.013222810812294483\n",
            " Loss : 0.012551133520901203\n",
            " Loss : 0.011871772818267345\n",
            " Loss : 0.011185108684003353\n",
            " Loss : 0.010491503402590752\n",
            " Loss : 0.009791309013962746\n",
            " Loss : 0.009084855206310749\n",
            " Loss : 0.00837914552539587\n",
            " Loss : 0.007683226373046637\n",
            "Epoch: 120 | Loss : 0.007683226373046637 | Test loss : 0.016528761014342308\n",
            "OrderedDict([('weights', tensor([0.7348])), ('bias', tensor([0.2855]))])\n",
            " Loss : 0.006994576193392277\n",
            " Loss : 0.0063185133039951324\n",
            " Loss : 0.005656915251165628\n",
            " Loss : 0.004998590797185898\n",
            " Loss : 0.00433481577783823\n",
            " Loss : 0.003656030399724841\n",
            " Loss : 0.002949882298707962\n",
            " Loss : 0.002230717334896326\n",
            " Loss : 0.0015231393044814467\n",
            " Loss : 0.0009118877351284027\n",
            "Epoch: 130 | Loss : 0.0009118877351284027 | Test loss : 0.00029178260592743754\n",
            "OrderedDict([('weights', tensor([0.7006])), ('bias', tensor([0.2992]))])\n",
            " Loss : 0.0005878329393453896\n",
            " Loss : 0.0006325923022814095\n",
            " Loss : 0.0012515969574451447\n",
            " Loss : 0.0016938463086262345\n",
            " Loss : 0.002107449574396014\n",
            " Loss : 0.002525536809116602\n",
            " Loss : 0.0029188506305217743\n",
            " Loss : 0.003253229660913348\n",
            " Loss : 0.0035204440355300903\n",
            " Loss : 0.003723821835592389\n",
            "Epoch: 140 | Loss : 0.003723821835592389 | Test loss : 0.00977247953414917\n",
            "OrderedDict([('weights', tensor([0.6806])), ('bias', tensor([0.3075]))])\n",
            " Loss : 0.003871586173772812\n",
            " Loss : 0.00397907430306077\n",
            " Loss : 0.0040599205531179905\n",
            " Loss : 0.004112423397600651\n",
            " Loss : 0.004134665243327618\n",
            " Loss : 0.00412380788475275\n",
            " Loss : 0.004072224255651236\n",
            " Loss : 0.003981954418122768\n",
            " Loss : 0.0038549229502677917\n",
            " Loss : 0.0036972439847886562\n",
            "Epoch: 150 | Loss : 0.0036972439847886562 | Test loss : 0.00817829929292202\n",
            "OrderedDict([('weights', tensor([0.6825])), ('bias', tensor([0.3074]))])\n",
            " Loss : 0.003517898265272379\n",
            " Loss : 0.0033234222792088985\n",
            " Loss : 0.0031124085653573275\n",
            " Loss : 0.0028770999051630497\n",
            " Loss : 0.0026114159263670444\n",
            " Loss : 0.0023119382094591856\n",
            " Loss : 0.0019910887349396944\n",
            " Loss : 0.0016637832159176469\n",
            " Loss : 0.001335497247055173\n",
            " Loss : 0.0009883850580081344\n",
            "Epoch: 160 | Loss : 0.0009883850580081344 | Test loss : 0.001157909631729126\n",
            "OrderedDict([('weights', tensor([0.6972])), ('bias', tensor([0.3014]))])\n",
            " Loss : 0.0005923159187659621\n",
            " Loss : 0.0002148889034288004\n",
            " Loss : 0.00021413565264083445\n",
            " Loss : 0.0005763269728049636\n",
            " Loss : 0.0008676036959514022\n",
            " Loss : 0.0011060528922826052\n",
            " Loss : 0.0013089545536786318\n",
            " Loss : 0.0014728941023349762\n",
            " Loss : 0.0015885017346590757\n",
            " Loss : 0.0016570508014410734\n",
            "Epoch: 170 | Loss : 0.0016570508014410734 | Test loss : 0.003942769952118397\n",
            "OrderedDict([('weights', tensor([0.7084])), ('bias', tensor([0.2965]))])\n",
            " Loss : 0.0016890264814719558\n",
            " Loss : 0.0016941644717007875\n",
            " Loss : 0.0016675300430506468\n",
            " Loss : 0.0016022294294089079\n",
            " Loss : 0.001500187092460692\n",
            " Loss : 0.0013677723472937942\n",
            " Loss : 0.0012166909873485565\n",
            " Loss : 0.0010428614914417267\n",
            " Loss : 0.0008318640175275505\n",
            " Loss : 0.0005977690452709794\n",
            "Epoch: 180 | Loss : 0.0005977690452709794 | Test loss : 0.0010162710677832365\n",
            "OrderedDict([('weights', tensor([0.7018])), ('bias', tensor([0.2994]))])\n",
            " Loss : 0.0003668568970169872\n",
            " Loss : 7.31490581529215e-05\n",
            " Loss : 0.00024247169494628906\n",
            " Loss : 0.000470644241431728\n",
            " Loss : 0.0006858117994852364\n",
            " Loss : 0.0008295170846395195\n",
            " Loss : 0.0009394943481311202\n",
            " Loss : 0.0010218701791018248\n",
            " Loss : 0.0010637231171131134\n",
            " Loss : 0.0010569520527496934\n",
            "Epoch: 190 | Loss : 0.0010569520527496934 | Test loss : 0.0023521899711340666\n",
            "OrderedDict([('weights', tensor([0.6949])), ('bias', tensor([0.3022]))])\n",
            " Loss : 0.0010194741189479828\n",
            " Loss : 0.0009606927633285522\n",
            " Loss : 0.0008682079496793449\n",
            " Loss : 0.0007329873624257743\n",
            " Loss : 0.0005805186810903251\n",
            " Loss : 0.0004092805029358715\n",
            " Loss : 0.00019321069703437388\n",
            " Loss : 0.00010319799184799194\n",
            " Loss : 0.0009831481147557497\n",
            "The time computing for the Model training / retrainig is -->  0.4850325584411621  for the Model :  Linear Regretion\n"
          ]
        }
      ]
    },
    {
      "cell_type": "code",
      "source": [
        "def retray_prediction(ModelTrained, test_loader):\n",
        "\n",
        "  X, y = next(iter(test_loader))\n",
        "  with torch.inference_mode(): ## turn off the gardient tracking\n",
        "    yHat = ModelTrained(X)\n",
        "    plot_prediction(predictions = yHat)\n",
        "  print(ModelTrained.state_dict())\n"
      ],
      "metadata": {
        "id": "_qsmU381Nr90"
      },
      "execution_count": 50,
      "outputs": []
    },
    {
      "cell_type": "code",
      "source": [
        "retray_prediction(ModelTrained, test_loader_reg)"
      ],
      "metadata": {
        "colab": {
          "base_uri": "https://localhost:8080/",
          "height": 616
        },
        "id": "gHBIciwEO7rD",
        "outputId": "3a5f4f4a-6b65-4bd6-aeac-c0ce934a1999"
      },
      "execution_count": 51,
      "outputs": [
        {
          "output_type": "display_data",
          "data": {
            "text/plain": [
              "<Figure size 1000x700 with 1 Axes>"
            ],
            "image/png": "[encoded data removed]"
          },
          "metadata": {}
        },
        {
          "output_type": "stream",
          "name": "stdout",
          "text": [
            "OrderedDict([('weights', tensor([0.7020])), ('bias', tensor([0.2983]))])\n"
          ]
        }
      ]
    },
    {
      "cell_type": "code",
      "source": [
        "def plot_results(epoch_count, train_Loss, test_Loss):\n",
        "\n",
        "  plt.figure(figsize=(10, 7))\n",
        "  plt.plot(epoch_count, train_Loss, label = \"Train Loss\" )\n",
        "  plt.plot(epoch_count, test_Loss, label = \"Test Loss\" )\n",
        "\n",
        "  plt.title(\"Training & Testing Loss\")\n",
        "  plt.ylabel(\"Loss\")\n",
        "  plt.xlabel(\"Epochs\")\n",
        "  plt.legend()\n",
        "\n",
        "  plt.show()"
      ],
      "metadata": {
        "id": "KcgOYoRPTTWA"
      },
      "execution_count": 52,
      "outputs": []
    },
    {
      "cell_type": "code",
      "source": [
        "plot_results(epoch_count, train_Loss, test_Loss)"
      ],
      "metadata": {
        "colab": {
          "base_uri": "https://localhost:8080/",
          "height": 641
        },
        "id": "1ejLiuJITa68",
        "outputId": "6b8f35a1-2066-4053-a34c-c7be5825ec73"
      },
      "execution_count": 53,
      "outputs": [
        {
          "output_type": "display_data",
          "data": {
            "text/plain": [
              "<Figure size 1000x700 with 1 Axes>"
            ],
            "image/png": "[encoded data removed]"
          },
          "metadata": {}
        }
      ]
    },
    {
      "cell_type": "code",
      "source": [
        "def save_model(ModelTrained):\n",
        "\n",
        "  ## saving your model --> with torch.save(), torch.load()\n",
        "\n",
        "  print(f\" check the state dict {ModelTrained.state_dict()}\")\n",
        "  \"\"\" OrderedDict([('weights', tensor([0.7020])), ('bias', tensor([0.2983]))]) so close to the true value \"\"\"\n",
        "\n",
        "  ## first create a model directory in google drive\n",
        "\n",
        "  MODEL_PATH = Path(\"model\")\n",
        "  MODEL_PATH.mkdir(parents = True, exist_ok = True)\n",
        "  MODEL_NAME = \"basic_lin_reg.pth\" ## .pth --> pytorch Object\n",
        "  MODEL_SAVE_PATH = MODEL_PATH / MODEL_NAME\n",
        "\n",
        "  print(f\"The model path is: {MODEL_SAVE_PATH}\")\n",
        "\n",
        "  ## now save it\n",
        "  torch.save(obj=ModelTrained.state_dict(), f=MODEL_SAVE_PATH)\n"
      ],
      "metadata": {
        "id": "NGxGGdGxXSXi"
      },
      "execution_count": 61,
      "outputs": []
    },
    {
      "cell_type": "code",
      "source": [
        "save_model(ModelTrained)"
      ],
      "metadata": {
        "id": "dhe3Kh-BYM6p"
      },
      "execution_count": null,
      "outputs": []
    },
    {
      "cell_type": "code",
      "source": [
        "def load_model():\n",
        "\n",
        "  ## first initialize a new model\n",
        "  load_model = LinearRegModel(False)\n",
        "\n",
        "  ## Now load the sate from the saved files\n",
        "  load_model.load_state_dict(torch.load(f =\"/content/model/basic_lin_reg.pth\"))\n",
        "\n",
        "  ## and check the state to be sure that's correctly load\n",
        "  print(f\" the State from the load model is {load_model.state_dict()}\")\n",
        "\n"
      ],
      "metadata": {
        "id": "1AbSK9Nrbw4T"
      },
      "execution_count": 63,
      "outputs": []
    },
    {
      "cell_type": "code",
      "source": [
        "load_model()"
      ],
      "metadata": {
        "colab": {
          "base_uri": "https://localhost:8080/"
        },
        "id": "pZdOcu4BdaD_",
        "outputId": "3cce7923-b9e8-4e00-ecc8-a1743ff7052b"
      },
      "execution_count": 64,
      "outputs": [
        {
          "output_type": "stream",
          "name": "stdout",
          "text": [
            " the State from the load model is OrderedDict([('weights', tensor([0.7020])), ('bias', tensor([0.2983]))])\n"
          ]
        }
      ]
    }
  ]
}